{
 "cells": [
  {
   "cell_type": "markdown",
   "metadata": {},
   "source": [
    "# Data Type"
   ]
  },
  {
   "cell_type": "markdown",
   "metadata": {},
   "source": [
    "### Data Type\n",
    "`> ` Numeric : int, float, complex <br>\n",
    "`> ` Test : str <br>\n",
    "`> ` Boolean : bool <br>\n",
    "`> ` Sequence : list, tupe, range <br>\n",
    "`> ` Set : set, fronzenser <br>\n",
    "`> ` Mapping : dict (dictionary)<br>\n",
    "`> ` Binary : bytes, bytearray, memoryview"
   ]
  },
  {
   "cell_type": "markdown",
   "metadata": {},
   "source": [
    "### Operator priority\n",
    "`BEDMAS`\n",
    "Bracket Expoentials Division Multiplication Addition Substraction\n"
   ]
  },
  {
   "cell_type": "code",
   "execution_count": 1,
   "metadata": {},
   "outputs": [
    {
     "name": "stdout",
     "output_type": "stream",
     "text": [
      " Hello World!\n"
     ]
    }
   ],
   "source": [
    "print(\" Hello World!\")"
   ]
  },
  {
   "cell_type": "code",
   "execution_count": 2,
   "metadata": {},
   "outputs": [
    {
     "name": "stdout",
     "output_type": "stream",
     "text": [
      " Hello \n",
      " World!\n"
     ]
    }
   ],
   "source": [
    "print(\" Hello \\n World!\")"
   ]
  },
  {
   "cell_type": "code",
   "execution_count": 3,
   "metadata": {},
   "outputs": [
    {
     "name": "stdout",
     "output_type": "stream",
     "text": [
      "Dear Friend\n"
     ]
    }
   ],
   "source": [
    "msg = \"Dear Friend\"\n",
    "print (msg)"
   ]
  },
  {
   "cell_type": "code",
   "execution_count": 4,
   "metadata": {},
   "outputs": [
    {
     "data": {
      "text/plain": [
       "str"
      ]
     },
     "execution_count": 4,
     "metadata": {},
     "output_type": "execute_result"
    }
   ],
   "source": [
    "type (msg)"
   ]
  },
  {
   "cell_type": "code",
   "execution_count": 5,
   "metadata": {},
   "outputs": [
    {
     "name": "stdout",
     "output_type": "stream",
     "text": [
      "-41.5\n"
     ]
    }
   ],
   "source": [
    "#BEDMAS\n",
    "print (2 -5 * 9 +6 /4)"
   ]
  },
  {
   "cell_type": "code",
   "execution_count": 6,
   "metadata": {},
   "outputs": [
    {
     "name": "stdout",
     "output_type": "stream",
     "text": [
      "16\n",
      "4\n",
      "60\n",
      "1.6666666666666667\n",
      "1.6666666666666667\n",
      "4\n",
      "1000000\n"
     ]
    }
   ],
   "source": [
    "# Numberc Data Type\n",
    "num1 = 10\n",
    "num2 = 6\n",
    "print (num1 + num2)\n",
    "print (num1 - num2)\n",
    "print (num1 * num2)\n",
    "print (num1 / num2)\n",
    "print (num1 / num2)\n",
    "print (num1 % num2)\n",
    "print (num1 ** num2)"
   ]
  },
  {
   "cell_type": "code",
   "execution_count": 7,
   "metadata": {},
   "outputs": [
    {
     "name": "stdout",
     "output_type": "stream",
     "text": [
      "9\n",
      "10\n",
      "8\n"
     ]
    },
    {
     "data": {
      "text/plain": [
       "int"
      ]
     },
     "execution_count": 7,
     "metadata": {},
     "output_type": "execute_result"
    }
   ],
   "source": [
    "# Increment & Decrement\n",
    "num = 9\n",
    "print (num)\n",
    "num +=1\n",
    "print (num)\n",
    "num -=2\n",
    "print (num)\n",
    "type (num)"
   ]
  },
  {
   "cell_type": "code",
   "execution_count": 8,
   "metadata": {},
   "outputs": [
    {
     "name": "stdout",
     "output_type": "stream",
     "text": [
      "(3+4j)\n"
     ]
    },
    {
     "data": {
      "text/plain": [
       "complex"
      ]
     },
     "execution_count": 8,
     "metadata": {},
     "output_type": "execute_result"
    }
   ],
   "source": [
    "#complex number\n",
    "num = 3 + 4j\n",
    "print(num)\n",
    "type(num)"
   ]
  },
  {
   "cell_type": "code",
   "execution_count": 9,
   "metadata": {},
   "outputs": [
    {
     "name": "stdout",
     "output_type": "stream",
     "text": [
      "True\n",
      "False\n",
      "False\n"
     ]
    }
   ],
   "source": [
    "#logic\n",
    "print(10<11)\n",
    "print(10>11)\n",
    "a=2\n",
    "b=2\n",
    "print(a!=b)"
   ]
  },
  {
   "cell_type": "code",
   "execution_count": 10,
   "metadata": {},
   "outputs": [
    {
     "name": "stdout",
     "output_type": "stream",
     "text": [
      "True\n"
     ]
    }
   ],
   "source": [
    "print(True and not False)"
   ]
  },
  {
   "cell_type": "markdown",
   "metadata": {},
   "source": [
    "Text conversion"
   ]
  },
  {
   "cell_type": "code",
   "execution_count": 11,
   "metadata": {},
   "outputs": [
    {
     "name": "stdout",
     "output_type": "stream",
     "text": [
      "i am lower case\n",
      "I AM LOWER CASE\n",
      "I AM UPPER CASE\n",
      "i am upper case\n"
     ]
    }
   ],
   "source": [
    "letters = \"i am lower case\"\n",
    "print(letters)\n",
    "print(letters.upper())\n",
    "letters = \"I AM UPPER CASE\"\n",
    "print(letters)\n",
    "print(letters.lower())"
   ]
  },
  {
   "cell_type": "code",
   "execution_count": 12,
   "metadata": {},
   "outputs": [
    {
     "name": "stdout",
     "output_type": "stream",
     "text": [
      "There is a space at the end \n",
      "There is a space at the end\n"
     ]
    }
   ],
   "source": [
    "sentence= \"There is a space at the end \"\n",
    "print(sentence)\n",
    "print(sentence.rstrip())"
   ]
  },
  {
   "cell_type": "code",
   "execution_count": 13,
   "metadata": {},
   "outputs": [
    {
     "name": "stdout",
     "output_type": "stream",
     "text": [
      " There is a space at the begining\n",
      "There is a space at the begining\n"
     ]
    }
   ],
   "source": [
    "sentence= \" There is a space at the begining\"\n",
    "print(sentence)\n",
    "print(sentence.lstrip())"
   ]
  },
  {
   "cell_type": "code",
   "execution_count": 14,
   "metadata": {},
   "outputs": [
    {
     "name": "stdout",
     "output_type": "stream",
     "text": [
      "SS%SS%\n",
      "SS%SS\n"
     ]
    }
   ],
   "source": [
    "percentnum = \"SS%SS%\"\n",
    "print(percentnum)\n",
    "print(percentnum.rstrip('%'))"
   ]
  },
  {
   "cell_type": "code",
   "execution_count": 15,
   "metadata": {},
   "outputs": [
    {
     "name": "stdout",
     "output_type": "stream",
     "text": [
      "******SSSSS######\n",
      "SSSSS\n"
     ]
    }
   ],
   "source": [
    "mixestrg=\"******SSSSS######\"\n",
    "print(mixestrg)\n",
    "print(mixestrg.lstrip('*').rstrip('#'))"
   ]
  },
  {
   "cell_type": "code",
   "execution_count": 16,
   "metadata": {},
   "outputs": [
    {
     "name": "stdout",
     "output_type": "stream",
     "text": [
      "10\n",
      "Peoples affected by the virus : 10\n"
     ]
    }
   ],
   "source": [
    "mixstg = '10 peoples affected by the virus'\n",
    "nb_people = mixstg[0:2]\n",
    "# start at 0 from the left\n",
    "print(nb_people)\n",
    "print(\"Peoples affected by the virus :\",nb_people)"
   ]
  },
  {
   "cell_type": "code",
   "execution_count": 17,
   "metadata": {},
   "outputs": [
    {
     "name": "stdout",
     "output_type": "stream",
     "text": [
      "peoples affected by the virus\n"
     ]
    }
   ],
   "source": [
    "rest_of_string=mixstg[3:]\n",
    "print(rest_of_string)"
   ]
  },
  {
   "cell_type": "code",
   "execution_count": 18,
   "metadata": {},
   "outputs": [
    {
     "name": "stdout",
     "output_type": "stream",
     "text": [
      "ffected \n"
     ]
    }
   ],
   "source": [
    "print(rest_of_string[9:17])"
   ]
  },
  {
   "cell_type": "code",
   "execution_count": 19,
   "metadata": {},
   "outputs": [
    {
     "name": "stdout",
     "output_type": "stream",
     "text": [
      "peoples affected by the \n",
      "peopl\n",
      "es affected by the \n"
     ]
    }
   ],
   "source": [
    "# start at 1 from the right\n",
    "print(rest_of_string[:-5])\n",
    "print(rest_of_string[:5])\n",
    "print(rest_of_string[5:-5])"
   ]
  },
  {
   "cell_type": "code",
   "execution_count": 20,
   "metadata": {},
   "outputs": [
    {
     "name": "stdout",
     "output_type": "stream",
     "text": [
      "2468\n",
      "13579\n",
      "13579\n",
      "147\n"
     ]
    }
   ],
   "source": [
    "num_seq= '123456789'\n",
    "print(num_seq[1::2])\n",
    "print(num_seq[0::2])\n",
    "print(num_seq[::2])\n",
    "print(num_seq[0::3])"
   ]
  },
  {
   "cell_type": "code",
   "execution_count": 21,
   "metadata": {},
   "outputs": [
    {
     "name": "stdout",
     "output_type": "stream",
     "text": [
      "Dany Cadiou\n"
     ]
    }
   ],
   "source": [
    "first_name = 'Dany'\n",
    "last_name= 'Cadiou'\n",
    "name = first_name + ' ' + last_name\n",
    "print(name)"
   ]
  },
  {
   "cell_type": "code",
   "execution_count": 22,
   "metadata": {},
   "outputs": [
    {
     "name": "stdout",
     "output_type": "stream",
     "text": [
      "my age is 30\n"
     ]
    }
   ],
   "source": [
    "age = 30\n",
    "type(age)\n",
    "print(\"my age is \" + str(age))"
   ]
  },
  {
   "cell_type": "code",
   "execution_count": 23,
   "metadata": {},
   "outputs": [
    {
     "name": "stdout",
     "output_type": "stream",
     "text": [
      "Data Science using Python Training\n"
     ]
    }
   ],
   "source": [
    "A = \"Data\"\n",
    "B = \"Science\"\n",
    "C = \"Python Training\"\n",
    "print(\"{0} {1} using {2}\".format(A,B,C))"
   ]
  },
  {
   "cell_type": "code",
   "execution_count": null,
   "metadata": {},
   "outputs": [],
   "source": []
  }
 ],
 "metadata": {
  "kernelspec": {
   "display_name": "Python 3",
   "language": "python",
   "name": "python3"
  },
  "language_info": {
   "codemirror_mode": {
    "name": "ipython",
    "version": 3
   },
   "file_extension": ".py",
   "mimetype": "text/x-python",
   "name": "python",
   "nbconvert_exporter": "python",
   "pygments_lexer": "ipython3",
   "version": "3.7.4"
  }
 },
 "nbformat": 4,
 "nbformat_minor": 2
}
