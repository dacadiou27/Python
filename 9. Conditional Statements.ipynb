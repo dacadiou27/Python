{
 "cells": [
  {
   "cell_type": "markdown",
   "metadata": {},
   "source": [
    "# Conditional Statements"
   ]
  },
  {
   "cell_type": "markdown",
   "metadata": {},
   "source": [
    "Branching out programing flow <br>\n",
    "IF .... ELSE <br>\n",
    "IF .... ELSE ..... ELSE <br>"
   ]
  },
  {
   "cell_type": "code",
   "execution_count": 16,
   "metadata": {},
   "outputs": [
    {
     "name": "stdout",
     "output_type": "stream",
     "text": [
      "Please enter a number : 33\n",
      "Entered number is more than 1 and its value is 33\n"
     ]
    }
   ],
   "source": [
    "score = int(input(\"Please enter a number : \"))\n",
    "if score < 0:\n",
    "    score = 0\n",
    "    print('Negative number chaged to zero')\n",
    "elif score == 0:\n",
    "    print ('Number enter is ZERO')\n",
    "elif score == 1:\n",
    "    print ('Number enter is ONE')\n",
    "else:\n",
    "    print('Entered number is more than 1 and its value is {0}'.format(score))"
   ]
  },
  {
   "cell_type": "markdown",
   "metadata": {},
   "source": [
    "Multiple if statements"
   ]
  },
  {
   "cell_type": "code",
   "execution_count": 18,
   "metadata": {},
   "outputs": [
    {
     "name": "stdout",
     "output_type": "stream",
     "text": [
      "Please enter score2\n",
      "You have failed!\n"
     ]
    }
   ],
   "source": [
    "score = int(input(\"Please enter score\"))\n",
    "cutoff = 70\n",
    "passmark = 35\n",
    "\n",
    "if score >= cutoff:\n",
    "    print(\"You got distintion!\")\n",
    "\n",
    "if score >= passmark and score < cutoff:\n",
    "    print(\"You have passed!\")\n",
    "\n",
    "if score < passmark:\n",
    "    print(\"You have failed!\")\n"
   ]
  },
  {
   "cell_type": "code",
   "execution_count": 27,
   "metadata": {},
   "outputs": [
    {
     "name": "stdout",
     "output_type": "stream",
     "text": [
      "Dany is involed in the project!\n"
     ]
    }
   ],
   "source": [
    "str1 = \"Dany work with Python\"\n",
    "if 'Dany' in str1:\n",
    "    print (\"Dany is involed in the project!\")\n"
   ]
  },
  {
   "cell_type": "code",
   "execution_count": 26,
   "metadata": {},
   "outputs": [
    {
     "name": "stdout",
     "output_type": "stream",
     "text": [
      "Enter a number :11\n",
      "11 is an odd number\n"
     ]
    }
   ],
   "source": [
    "num = int(input(\"Enter a number :\"))\n",
    "if num%2==0:\n",
    "    print (\"{0} is an even number\".format(num))\n",
    "else:\n",
    "    print (\"{0} is an odd number\".format(num))"
   ]
  },
  {
   "cell_type": "code",
   "execution_count": null,
   "metadata": {},
   "outputs": [],
   "source": []
  }
 ],
 "metadata": {
  "kernelspec": {
   "display_name": "Python 3",
   "language": "python",
   "name": "python3"
  },
  "language_info": {
   "codemirror_mode": {
    "name": "ipython",
    "version": 3
   },
   "file_extension": ".py",
   "mimetype": "text/x-python",
   "name": "python",
   "nbconvert_exporter": "python",
   "pygments_lexer": "ipython3",
   "version": "3.7.4"
  }
 },
 "nbformat": 4,
 "nbformat_minor": 2
}
