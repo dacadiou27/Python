{
 "cells": [
  {
   "cell_type": "markdown",
   "metadata": {},
   "source": [
    "# Loops"
   ]
  },
  {
   "cell_type": "markdown",
   "metadata": {},
   "source": [
    "FOR Loop / WHILE Loop / RANGE()"
   ]
  },
  {
   "cell_type": "markdown",
   "metadata": {},
   "source": [
    "### FOR Loop"
   ]
  },
  {
   "cell_type": "code",
   "execution_count": 1,
   "metadata": {},
   "outputs": [
    {
     "name": "stdout",
     "output_type": "stream",
     "text": [
      "Apple 5\n",
      "Orange 6\n",
      "Banana 6\n"
     ]
    }
   ],
   "source": [
    "fruits = ['Apple', 'Orange', 'Banana']\n",
    "for i in fruits:\n",
    "    print (i,len(i))"
   ]
  },
  {
   "cell_type": "code",
   "execution_count": 2,
   "metadata": {},
   "outputs": [
    {
     "name": "stdout",
     "output_type": "stream",
     "text": [
      "5\n",
      "6\n",
      "7\n",
      "8\n",
      "9\n",
      "10\n"
     ]
    }
   ],
   "source": [
    "# Using Range Function, loop through.....\n",
    "\n",
    "for w in range(5,11):\n",
    "    print(w)"
   ]
  },
  {
   "cell_type": "code",
   "execution_count": 3,
   "metadata": {},
   "outputs": [
    {
     "name": "stdout",
     "output_type": "stream",
     "text": [
      "[5, 6, 7, 8, 9, 10, 11, 12, 13, 14, 15, 16, 17, 18, 19]\n"
     ]
    }
   ],
   "source": [
    "list1 = list(range(5,20))\n",
    "print(list1)"
   ]
  },
  {
   "cell_type": "code",
   "execution_count": 4,
   "metadata": {},
   "outputs": [
    {
     "name": "stdout",
     "output_type": "stream",
     "text": [
      "10\n",
      "12\n",
      "14\n",
      "16\n",
      "18\n"
     ]
    }
   ],
   "source": [
    "# Range function with increment\n",
    "for i in range(10,20,2):\n",
    "    print(i)"
   ]
  },
  {
   "cell_type": "code",
   "execution_count": 5,
   "metadata": {},
   "outputs": [
    {
     "name": "stdout",
     "output_type": "stream",
     "text": [
      "w\n",
      "o\n",
      "r\n",
      "d\n"
     ]
    }
   ],
   "source": [
    "string = \"word\"\n",
    "for i in string:\n",
    "    print(i)"
   ]
  },
  {
   "cell_type": "code",
   "execution_count": 6,
   "metadata": {},
   "outputs": [
    {
     "name": "stdout",
     "output_type": "stream",
     "text": [
      " * \n",
      " * * \n",
      " * * * \n",
      " * * * * \n",
      " * * * * * \n",
      " * * * * \n",
      " * * * \n",
      " * * \n",
      " * \n"
     ]
    }
   ],
   "source": [
    "str=' '\n",
    "for i in range (0,9):\n",
    "    if i<5:\n",
    "        str += '* '\n",
    "        print(str)\n",
    "    elif i>=5:\n",
    "        str = str[:-2]\n",
    "        print(str)"
   ]
  },
  {
   "cell_type": "code",
   "execution_count": 7,
   "metadata": {},
   "outputs": [
    {
     "name": "stdout",
     "output_type": "stream",
     "text": [
      "0 C\n",
      "1 o\n",
      "2 u\n",
      "3 n\n",
      "4 t\n",
      "5  \n",
      "6 i\n",
      "7 n\n",
      "8  \n",
      "9 a\n",
      "10  \n",
      "11 s\n",
      "12 e\n",
      "13 n\n",
      "14 t\n",
      "15 e\n",
      "16 n\n",
      "17 c\n",
      "18 e\n"
     ]
    }
   ],
   "source": [
    "my_string = \"Count in a sentence\"\n",
    "\n",
    "for i,letter in enumerate(my_string):\n",
    "    print(i,letter)"
   ]
  },
  {
   "cell_type": "code",
   "execution_count": 8,
   "metadata": {},
   "outputs": [
    {
     "name": "stdout",
     "output_type": "stream",
     "text": [
      " o u i a e e e\n"
     ]
    }
   ],
   "source": [
    "# Find vowels\n",
    "vowels=''\n",
    "for alpha in my_string:\n",
    "    if alpha in 'aeiou':\n",
    "        vowels += ' '+alpha\n",
    "print(vowels)\n"
   ]
  },
  {
   "cell_type": "code",
   "execution_count": 9,
   "metadata": {},
   "outputs": [
    {
     "name": "stdout",
     "output_type": "stream",
     "text": [
      "even number list  2 4 6 8 0 and odd number list  1 3 5 7 9\n"
     ]
    }
   ],
   "source": [
    "# Find even and odd number\n",
    "num = '1234567890'\n",
    "even=''\n",
    "odd=''\n",
    "\n",
    "for fig in num:\n",
    "    if int(fig)%2==0:\n",
    "        even += ' ' + fig\n",
    "    else:\n",
    "        odd += ' ' + fig\n",
    "print('even number list {0} and odd number list {1}'.format(even,odd))\n",
    "        \n"
   ]
  },
  {
   "cell_type": "code",
   "execution_count": 10,
   "metadata": {
    "scrolled": true
   },
   "outputs": [
    {
     "name": "stdout",
     "output_type": "stream",
     "text": [
      "apple\n",
      "banana\n",
      "potato\n",
      "mango\n",
      "onion\n",
      "toothpaste\n",
      "Number of fruit 3\n",
      "Number of veg 2\n"
     ]
    }
   ],
   "source": [
    "list_of_inventories = ['apple','banana','potato','mango','onion','toothpaste']\n",
    "fruits=['apple','banana','mango','pear']\n",
    "vegetables=['potato','onion','cucumber']\n",
    "count_fruits=0\n",
    "count_veg=0\n",
    "\n",
    "for item in list_of_inventories:\n",
    "    print(item)\n",
    "    if item in fruits:\n",
    "        count_fruits+=1\n",
    "    elif item in vegetables:\n",
    "        count_veg+=1\n",
    "    else:\n",
    "        continue\n",
    "print('Number of fruit {0}'.format(count_fruits))\n",
    "print('Number of veg {0}'.format(count_veg))      "
   ]
  },
  {
   "cell_type": "code",
   "execution_count": 11,
   "metadata": {},
   "outputs": [
    {
     "name": "stdout",
     "output_type": "stream",
     "text": [
      "Hello\n",
      "I\n",
      "am\n",
      "Dany!\n"
     ]
    }
   ],
   "source": [
    "sentence = \"Hello I am Dany!\"\n",
    "\n",
    "for word in sentence.split():\n",
    "    print(word)"
   ]
  },
  {
   "cell_type": "code",
   "execution_count": 14,
   "metadata": {},
   "outputs": [
    {
     "name": "stdout",
     "output_type": "stream",
     "text": [
      "corona\n",
      "virus\n",
      "dangerous\n"
     ]
    }
   ],
   "source": [
    "str1= '#corona #virus is #dangerous and bad'\n",
    "for word in str1.split():\n",
    "    if word.startswith('#'):\n",
    "        print(word[1:])\n",
    "\n"
   ]
  },
  {
   "cell_type": "code",
   "execution_count": 16,
   "metadata": {},
   "outputs": [
    {
     "data": {
      "text/plain": [
       "dict"
      ]
     },
     "execution_count": 16,
     "metadata": {},
     "output_type": "execute_result"
    }
   ],
   "source": [
    "students ={1:['dany',21] , 2:['andrea',20] , 3:['bella',4]}\n",
    "type(students)"
   ]
  },
  {
   "cell_type": "code",
   "execution_count": 17,
   "metadata": {
    "scrolled": true
   },
   "outputs": [
    {
     "name": "stdout",
     "output_type": "stream",
     "text": [
      "1 ['dany', 21]\n",
      "2 ['andrea', 20]\n",
      "3 ['bella', 4]\n"
     ]
    }
   ],
   "source": [
    "for key,val in students.items():\n",
    "    print (key,val)"
   ]
  },
  {
   "cell_type": "code",
   "execution_count": 18,
   "metadata": {},
   "outputs": [
    {
     "name": "stdout",
     "output_type": "stream",
     "text": [
      "1\n",
      "2\n",
      "3\n"
     ]
    }
   ],
   "source": [
    "for key in students.keys():\n",
    "    print (key)"
   ]
  },
  {
   "cell_type": "code",
   "execution_count": 19,
   "metadata": {},
   "outputs": [
    {
     "name": "stdout",
     "output_type": "stream",
     "text": [
      "['dany', 21]\n",
      "['andrea', 20]\n",
      "['bella', 4]\n"
     ]
    }
   ],
   "source": [
    "for val in students.values():\n",
    "    print (val)"
   ]
  },
  {
   "cell_type": "code",
   "execution_count": 25,
   "metadata": {},
   "outputs": [
    {
     "name": "stdout",
     "output_type": "stream",
     "text": [
      "1\n"
     ]
    }
   ],
   "source": [
    "count=0\n",
    "for key,val in students.items():\n",
    "    if val[1]<5:\n",
    "        count+=1\n",
    "print(count)"
   ]
  },
  {
   "cell_type": "markdown",
   "metadata": {},
   "source": [
    "### WHILE Loop"
   ]
  },
  {
   "cell_type": "code",
   "execution_count": 33,
   "metadata": {},
   "outputs": [
    {
     "name": "stdout",
     "output_type": "stream",
     "text": [
      "0 1 1 2 3 5 8 13 21 34 "
     ]
    }
   ],
   "source": [
    "# Fibonacci series\n",
    "a , b = 0 , 1\n",
    "n = 50\n",
    "while a < n :\n",
    "    print(a, end=' ')\n",
    "    a, b = b ,a + b"
   ]
  },
  {
   "cell_type": "code",
   "execution_count": null,
   "metadata": {},
   "outputs": [],
   "source": []
  }
 ],
 "metadata": {
  "kernelspec": {
   "display_name": "Python 3",
   "language": "python",
   "name": "python3"
  },
  "language_info": {
   "codemirror_mode": {
    "name": "ipython",
    "version": 3
   },
   "file_extension": ".py",
   "mimetype": "text/x-python",
   "name": "python",
   "nbconvert_exporter": "python",
   "pygments_lexer": "ipython3",
   "version": "3.7.4"
  }
 },
 "nbformat": 4,
 "nbformat_minor": 2
}
