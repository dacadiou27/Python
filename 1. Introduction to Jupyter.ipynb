{
 "cells": [
  {
   "cell_type": "markdown",
   "metadata": {},
   "source": [
    "# Introduction to Jupyter"
   ]
  },
  {
   "cell_type": "code",
   "execution_count": 1,
   "metadata": {},
   "outputs": [],
   "source": [
    "# Welcome to this notebook\n",
    "# Python = Object Oriented Programming and a Structured Programming Language"
   ]
  },
  {
   "cell_type": "code",
   "execution_count": 2,
   "metadata": {},
   "outputs": [],
   "source": [
    "# 3 kinds of cells : Blue / Green /Mardown cells\n",
    "# Blue cell --> Command mode \n",
    "# Green cell --> Edit mode\n",
    "# Markdown cell"
   ]
  },
  {
   "cell_type": "markdown",
   "metadata": {},
   "source": [
    "<u>Markdown cell</u>\n",
    "# Heading 1\n",
    "## Heading 2\n",
    "### Heading 3\n",
    "`test hightlight`\n",
    "\n",
    "__test bold__\n",
    "\n",
    "_test italic_\n",
    "\n",
    "***test bold and italic***"
   ]
  },
  {
   "cell_type": "markdown",
   "metadata": {},
   "source": [
    "## Indenting\n",
    "> indent 1\n",
    ">> indent 2\n",
    ">>> indent 3"
   ]
  },
  {
   "cell_type": "markdown",
   "metadata": {},
   "source": [
    "<font color=green> test1 </font><br><font color=blue> test2 </font><br><font color=red> test3 </font><br>"
   ]
  },
  {
   "cell_type": "markdown",
   "metadata": {},
   "source": [
    "### Bullets and Numbering\n",
    "-  a dask followed by 2 spaces <br>\n",
    "`1. ` 1 follow by a dot and a space\n"
   ]
  },
  {
   "cell_type": "markdown",
   "metadata": {},
   "source": [
    "### image insertion \n",
    "<img src = \"https://upload.wikimedia.org/wikipedia/commons/thumb/9/97/The_Earth_seen_from_Apollo_17.jpg/1200px-The_Earth_seen_from_Apollo_17.jpg\" style=\"width: 100px;\">"
   ]
  },
  {
   "cell_type": "markdown",
   "metadata": {},
   "source": [
    "### LaTeX equations\n",
    "Use \"$\" on either side to write a LaTeX equations <br>\n",
    "Example: <br>"
   ]
  },
  {
   "cell_type": "markdown",
   "metadata": {},
   "source": [
    "$(\\frac{a_1}{a_2} + \\frac{a_3}{a_4})^2 = a_5^3$"
   ]
  },
  {
   "cell_type": "markdown",
   "metadata": {},
   "source": [
    "Useful link (https://en.wikibooks.org/wiki/LaTeX/Mathematics)"
   ]
  },
  {
   "cell_type": "code",
   "execution_count": 3,
   "metadata": {},
   "outputs": [],
   "source": [
    "# Press 'p' to view the list of the cmds\n",
    "# Press 'Shift + Enter' to excecute the cell\n",
    "# Press 'Enter' to activate edit mode\n",
    "# Press 'Esc' to activate command mode\n",
    "# Press 'H' for a list of the hot keys\n",
    "# other shortcuts https://towardsdatascience.com/jypyter-notebook-shortcuts-bf0101a98330\n",
    "# Press 'Shift + Tab' to get info about the comand"
   ]
  },
  {
   "cell_type": "code",
   "execution_count": 4,
   "metadata": {
    "scrolled": false
   },
   "outputs": [
    {
     "name": "stdout",
     "output_type": "stream",
     "text": [
      "Enter my name : Dany\n",
      "Hello Dany!\n",
      "How are you,  Dany ?\n"
     ]
    }
   ],
   "source": [
    "# here a coding cell\n",
    "Mymsg = input (\"Enter my name : \")\n",
    "print (\"Hello \" + Mymsg + \"!\")\n",
    "print (\"How are you, \",Mymsg,\"?\")"
   ]
  }
 ],
 "metadata": {
  "kernelspec": {
   "display_name": "Python 3",
   "language": "python",
   "name": "python3"
  },
  "language_info": {
   "codemirror_mode": {
    "name": "ipython",
    "version": 3
   },
   "file_extension": ".py",
   "mimetype": "text/x-python",
   "name": "python",
   "nbconvert_exporter": "python",
   "pygments_lexer": "ipython3",
   "version": "3.7.4"
  }
 },
 "nbformat": 4,
 "nbformat_minor": 2
}
